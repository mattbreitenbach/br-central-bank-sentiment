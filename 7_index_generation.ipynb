{
 "cells": [
  {
   "cell_type": "markdown",
   "id": "9f6d2ae0",
   "metadata": {},
   "source": [
    "#### Sentiment Index Generation\n",
    "\n",
    "This notebook focuses on creating a comprehensive sentiment index from raw sentiment data derived from the Copom minutes. The index captures the overall tone of the documents and is designed for use in econometric analysis.\n",
    " * It calculates a \"Net Optmism Sentiment\" index by normalizing the difference between positive and negative word counts.\n",
    " * It also calculates a \"Uncertainty\" index."
   ]
  },
  {
   "cell_type": "code",
   "execution_count": 1,
   "id": "26eb1ca7",
   "metadata": {},
   "outputs": [],
   "source": [
    "import pandas as pd"
   ]
  },
  {
   "cell_type": "code",
   "execution_count": 4,
   "id": "d1b91b52",
   "metadata": {},
   "outputs": [],
   "source": [
    "sentiments_results = pd.read_excel(\"./data/processed/sentiments_results.xlsx\")\n",
    "index_results = sentiments_results.copy()\n",
    "\n",
    "minutes_info = pd.read_excel(\"./data/raw/minutes_info.xlsx\")\n",
    "minutes_info['DataPublicacao'] = pd.to_datetime(minutes_info['DataPublicacao'])\n",
    "minutes_info['DataPublicacao'] = minutes_info['DataPublicacao'].dt.tz_localize(None)\n",
    "\n",
    "minutes_info.set_index(\"Titulo\", inplace=True)\n",
    "\n",
    "index_results[\"filename\"] = index_results[\"filename\"].str.replace(\".txt\", \"\")\n",
    "index_results[\"date\"] = index_results.filename.map(minutes_info['DataPublicacao'])\n",
    "\n",
    "index_results = index_results.sort_values(\"date\")"
   ]
  },
  {
   "cell_type": "markdown",
   "id": "c270693e",
   "metadata": {},
   "source": [
    "#### Optimism Index"
   ]
  },
  {
   "cell_type": "code",
   "execution_count": 5,
   "id": "1b855e5c",
   "metadata": {},
   "outputs": [],
   "source": [
    "optimism_df = index_results.copy()"
   ]
  },
  {
   "cell_type": "code",
   "execution_count": 6,
   "id": "3a973ceb",
   "metadata": {},
   "outputs": [],
   "source": [
    "optimism_df['optimism_index'] = (optimism_df['positive_count'] - optimism_df['negative_count']) / optimism_df['total_words']"
   ]
  },
  {
   "cell_type": "code",
   "execution_count": 7,
   "id": "15fe7be4",
   "metadata": {},
   "outputs": [],
   "source": [
    "optimism_df = optimism_df.groupby([\"date\", \"filename\", \"dominant_topic\"]).agg(\n",
    "    optimism_index=('optimism_index', 'mean'),\n",
    ").reset_index()\n",
    "\n",
    "optimism_df = optimism_df.pivot_table(\n",
    "    index=[\"date\", \"filename\"],        \n",
    "    columns='dominant_topic', \n",
    "    values='optimism_index'\n",
    ").reset_index()\n",
    "\n",
    "optimism_df.columns.name = None\n",
    "optimism_df = optimism_df.fillna(0)\n",
    "\n",
    "optimism_df.to_excel(\"./data/processed/index_optimism.xlsx\", index=False)"
   ]
  },
  {
   "cell_type": "markdown",
   "id": "9b26b8bb",
   "metadata": {},
   "source": [
    "##### Uncertainty Index"
   ]
  },
  {
   "cell_type": "code",
   "execution_count": 8,
   "id": "de469e04",
   "metadata": {},
   "outputs": [],
   "source": [
    "uncertainty_df = index_results.copy()"
   ]
  },
  {
   "cell_type": "code",
   "execution_count": 9,
   "id": "660ba80e",
   "metadata": {},
   "outputs": [],
   "source": [
    "uncertainty_df['uncertainty_index'] = uncertainty_df['uncertainty_count'] / uncertainty_df['total_words']"
   ]
  },
  {
   "cell_type": "code",
   "execution_count": 10,
   "id": "33c5afa2",
   "metadata": {},
   "outputs": [],
   "source": [
    "uncertainty_df = uncertainty_df.groupby([\"date\", \"filename\", \"dominant_topic\"]).agg(\n",
    "    uncertainty_index=('uncertainty_index', 'mean'),\n",
    ").reset_index()\n",
    "\n",
    "uncertainty_df = uncertainty_df.pivot_table(\n",
    "    index=[\"date\", \"filename\"],        \n",
    "    columns='dominant_topic', \n",
    "    values='uncertainty_index'\n",
    ").reset_index()\n",
    "\n",
    "uncertainty_df.columns.name = None\n",
    "uncertainty_df = uncertainty_df.fillna(0)\n",
    "\n",
    "uncertainty_df.to_excel(\"./data/processed/index_uncertainty.xlsx\", index=False)"
   ]
  }
 ],
 "metadata": {
  "kernelspec": {
   "display_name": ".venv",
   "language": "python",
   "name": "python3"
  },
  "language_info": {
   "codemirror_mode": {
    "name": "ipython",
    "version": 3
   },
   "file_extension": ".py",
   "mimetype": "text/x-python",
   "name": "python",
   "nbconvert_exporter": "python",
   "pygments_lexer": "ipython3",
   "version": "3.12.10"
  }
 },
 "nbformat": 4,
 "nbformat_minor": 5
}
