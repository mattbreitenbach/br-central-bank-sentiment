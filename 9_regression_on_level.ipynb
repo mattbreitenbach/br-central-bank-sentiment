{
 "cells": [
  {
   "cell_type": "code",
   "execution_count": 1,
   "id": "461885f0",
   "metadata": {},
   "outputs": [],
   "source": [
    "import pandas as pd\n",
    "import statsmodels.api as sm\n",
    "import numpy as np"
   ]
  },
  {
   "cell_type": "code",
   "execution_count": 2,
   "id": "29735ff6",
   "metadata": {},
   "outputs": [],
   "source": [
    "futures_ir = pd.read_excel(\"./data/future_interest_rates/future_interest_rates.xlsx\", index_col=\"Date\")\n",
    "futures_ir.index = pd.to_datetime(futures_ir.index)\n",
    "futures_ir.sort_index(inplace=True)\n",
    "\n",
    "futures_ir_returns = futures_ir.pct_change().dropna()"
   ]
  },
  {
   "cell_type": "code",
   "execution_count": 3,
   "id": "f5290545",
   "metadata": {},
   "outputs": [],
   "source": [
    "minutes_info = pd.read_excel(\"./data/raw/minutes_info.xlsx\")\n",
    "minutes_info = minutes_info[minutes_info[\"DataReferencia\"] >= \"2003-06-17\"]\n",
    "minutes_info = minutes_info.sort_values(\"DataReferencia\", ascending=True)\n",
    "\n",
    "dates_ref = minutes_info[\"DataReferencia\"]\n",
    "detes_pub = minutes_info[\"DataPublicacao\"]"
   ]
  },
  {
   "cell_type": "code",
   "execution_count": 4,
   "id": "04515e72",
   "metadata": {},
   "outputs": [],
   "source": [
    "returns_pub_date = futures_ir_returns[futures_ir_returns.index.isin(detes_pub)]"
   ]
  },
  {
   "cell_type": "markdown",
   "id": "92eb2dd9",
   "metadata": {},
   "source": [
    "#### Regression on optimism index"
   ]
  },
  {
   "cell_type": "code",
   "execution_count": 5,
   "id": "fb056132",
   "metadata": {},
   "outputs": [],
   "source": [
    "df_optimism = pd.read_excel(\"./data/processed/index_optimism.xlsx\", index_col=0)\n",
    "df_optimism = df_optimism.drop(columns=['filename'])\n",
    "df_optimism.columns = [f\"optimism_{i}\" for i in range(len(df_optimism.columns))]"
   ]
  },
  {
   "cell_type": "code",
   "execution_count": 6,
   "id": "a83cc6ac",
   "metadata": {},
   "outputs": [],
   "source": [
    "regression_data = pd.concat([returns_pub_date, df_optimism], axis=1)\n",
    "regression_data.dropna(inplace=True)\n",
    "\n",
    "possible_y = returns_pub_date.columns.tolist()\n",
    "all_x = df_optimism.columns.tolist()"
   ]
  },
  {
   "cell_type": "code",
   "execution_count": 7,
   "id": "ce9cb25c",
   "metadata": {},
   "outputs": [],
   "source": [
    "results_list = []\n",
    "\n",
    "initial_X = regression_data[all_x]\n",
    "\n",
    "for maturity in possible_y:\n",
    "    Y = regression_data[maturity]\n",
    "    X = initial_X.copy()\n",
    "\n",
    "    p_value_threshold = 0.10\n",
    "\n",
    "    while True:\n",
    "        X = sm.add_constant(X)\n",
    "        \n",
    "        model = sm.OLS(Y, X).fit()\n",
    "\n",
    "        pvalues = model.pvalues.drop('const')\n",
    "        if pvalues.empty:\n",
    "            break\n",
    "\n",
    "        max_pvalue = pvalues.max()\n",
    "        if max_pvalue > p_value_threshold:\n",
    "            variable_to_remove = pvalues.idxmax()\n",
    "            X = X.drop(variable_to_remove, axis=1)\n",
    "        else:\n",
    "            break\n",
    "        \n",
    "    if len(X.columns) > 0:\n",
    "        results_list.append({\n",
    "            'Vencimento (d.u.)': maturity,\n",
    "            'Coeficiente (β)': model.params[X.columns],\n",
    "            'P-valor': model.pvalues[X.columns],\n",
    "            'R² Ajustado': model.rsquared_adj\n",
    "        })"
   ]
  },
  {
   "cell_type": "markdown",
   "id": "250b3f68",
   "metadata": {},
   "source": [
    "#### Regression on optimism index"
   ]
  },
  {
   "cell_type": "code",
   "execution_count": 8,
   "id": "73492dd8",
   "metadata": {},
   "outputs": [],
   "source": [
    "df_uncertainty = pd.read_excel(\"./data/processed/index_uncertainty.xlsx\", index_col=0)\n",
    "df_uncertainty = df_uncertainty.drop(columns=['filename'])\n",
    "df_uncertainty.columns = [f\"uncertainty_{i}\" for i in range(len(df_uncertainty.columns))]"
   ]
  },
  {
   "cell_type": "code",
   "execution_count": 9,
   "id": "d145ee7f",
   "metadata": {},
   "outputs": [],
   "source": [
    "regression_data = pd.concat([returns_pub_date, df_uncertainty], axis=1)\n",
    "regression_data.dropna(inplace=True)\n",
    "\n",
    "possible_y = returns_pub_date.columns.tolist()\n",
    "all_x = df_uncertainty.columns.tolist()"
   ]
  },
  {
   "cell_type": "code",
   "execution_count": 10,
   "id": "c1e886c9",
   "metadata": {},
   "outputs": [],
   "source": [
    "results_list = []\n",
    "\n",
    "initial_X = regression_data[all_x]\n",
    "\n",
    "for maturity in possible_y:\n",
    "    Y = regression_data[maturity]\n",
    "    X = initial_X.copy()\n",
    "\n",
    "    p_value_threshold = 0.10\n",
    "\n",
    "    while True:\n",
    "        X = sm.add_constant(X)\n",
    "        \n",
    "        model = sm.OLS(Y, X).fit()\n",
    "\n",
    "        pvalues = model.pvalues.drop('const')\n",
    "        if pvalues.empty:\n",
    "            break\n",
    "\n",
    "        max_pvalue = pvalues.max()\n",
    "        if max_pvalue > p_value_threshold:\n",
    "            variable_to_remove = pvalues.idxmax()\n",
    "            X = X.drop(variable_to_remove, axis=1)\n",
    "        else:\n",
    "            break\n",
    "        \n",
    "    if len(X.columns) > 0:\n",
    "        results_list.append({\n",
    "            'Vencimento (d.u.)': maturity,\n",
    "            'Coeficiente (β)': model.params[X.columns],\n",
    "            'P-valor': model.pvalues[X.columns],\n",
    "            'R² Ajustado': model.rsquared_adj\n",
    "        })"
   ]
  }
 ],
 "metadata": {
  "kernelspec": {
   "display_name": ".venv",
   "language": "python",
   "name": "python3"
  },
  "language_info": {
   "codemirror_mode": {
    "name": "ipython",
    "version": 3
   },
   "file_extension": ".py",
   "mimetype": "text/x-python",
   "name": "python",
   "nbconvert_exporter": "python",
   "pygments_lexer": "ipython3",
   "version": "3.12.2"
  }
 },
 "nbformat": 4,
 "nbformat_minor": 5
}
