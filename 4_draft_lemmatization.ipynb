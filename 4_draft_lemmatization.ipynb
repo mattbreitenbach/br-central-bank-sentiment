{
 "cells": [
  {
   "cell_type": "code",
   "execution_count": null,
   "id": "2a3f9638",
   "metadata": {},
   "outputs": [],
   "source": [
    "import spacy\n",
    "import re\n"
   ]
  },
  {
   "cell_type": "code",
   "execution_count": null,
   "id": "10d6778f",
   "metadata": {},
   "outputs": [],
   "source": [
    "nlp = spacy.load('en_core_web_sm')\n",
    "\n",
    "def process_text_spacy(text):\n",
    "\n",
    "    doc = nlp(text)\n",
    "    \n",
    "    processed_sentences = []\n",
    "\n",
    "    for sent in doc.sents:\n",
    "        print(f\"ORIGINAL: {sent.text.strip()}\")\n",
    "        \n",
    "\n",
    "        lemmatized_words = [\n",
    "            token.lemma_.lower() for token in sent \n",
    "            if not token.is_stop and token.is_alpha\n",
    "        ]\n",
    "\n",
    "        if lemmatized_words:\n",
    "            processed_sentences.append(lemmatized_words)\n",
    "        \n",
    "        print(f\"LEMMATIZED: {lemmatized_words}\")\n",
    "        print(\"#----\\n\\n\")\n",
    "\n",
    "    return processed_sentences\n"
   ]
  },
  {
   "cell_type": "code",
   "execution_count": null,
   "id": "42fe5d12",
   "metadata": {},
   "outputs": [],
   "source": [
    "\n",
    "stopwords_set = set(nltk.corpus.stopwords.words('english'))\n",
    "\n",
    "wordcloud = WordCloud(\n",
    "    stopwords=stopwords_set,\n",
    "    background_color=\"white\",\n",
    "    width=1600,\n",
    "    height=800,\n",
    "    max_words=200,\n",
    "    colormap='magma',\n",
    "    collocations=False\n",
    ").generate(lemmatized_text_for_cloud)\n",
    "\n",
    "plt.figure(figsize=(20, 10))\n",
    "plt.imshow(wordcloud, interpolation='bilinear')\n",
    "plt.axis(\"off\")\n",
    "plt.title('Termos Lematizados Mais Frequentes nas Atas do COPOM', fontsize=20, pad=20)\n",
    "plt.tight_layout()\n",
    "plt.show()"
   ]
  }
 ],
 "metadata": {
  "language_info": {
   "name": "python"
  }
 },
 "nbformat": 4,
 "nbformat_minor": 5
}
