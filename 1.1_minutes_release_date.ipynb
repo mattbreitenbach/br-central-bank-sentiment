{
 "cells": [
  {
   "cell_type": "code",
   "execution_count": 117,
   "id": "662b5583",
   "metadata": {},
   "outputs": [],
   "source": [
    "import requests\n",
    "import pandas as pd"
   ]
  },
  {
   "cell_type": "code",
   "execution_count": 118,
   "id": "b62a1c21",
   "metadata": {},
   "outputs": [],
   "source": [
    "FOLDER_RAW = \"./data/raw\""
   ]
  },
  {
   "cell_type": "code",
   "execution_count": 119,
   "id": "e604d151",
   "metadata": {},
   "outputs": [],
   "source": [
    "# Extracting and saving info about the Copom Minutes from the Brazilian Central Bank API.\n",
    "url = \"https://www.bcb.gov.br/api/servico/sitebcb/copom/atas?quantidade=1000\"\n",
    "\n",
    "response = requests.get(url)\n"
   ]
  },
  {
   "cell_type": "code",
   "execution_count": 120,
   "id": "5de5c310",
   "metadata": {},
   "outputs": [],
   "source": [
    "df_minutes_date = pd.DataFrame(response.json()[\"conteudo\"])\n",
    "df_minutes_date[\"dataReferencia\"] = pd.to_datetime(df_minutes_date[\"dataReferencia\"], format=\"%Y-%m-%d\").dt.date\n",
    "df_minutes_date[\"dataPublicacao\"] = pd.to_datetime(df_minutes_date[\"dataPublicacao\"], format=\"%Y-%m-%d\").dt.date\n",
    "df_minutes_date.set_index(\"nroReuniao\", inplace=True)\n",
    "\n",
    "df_minutes_date = df_minutes_date.tail(len(df_minutes_date) - 1)\n",
    "df_minutes_date = df_minutes_date.head(len(df_minutes_date) - 21)"
   ]
  },
  {
   "cell_type": "code",
   "execution_count": 121,
   "id": "76219ad7",
   "metadata": {},
   "outputs": [],
   "source": [
    "df_info = pd.read_excel(f\"{FOLDER_RAW}/minutes_info.xlsx\")\n",
    "df_info[\"DataReferencia\"] = pd.to_datetime(df_info[\"DataReferencia\"]).dt.date"
   ]
  },
  {
   "cell_type": "code",
   "execution_count": 122,
   "id": "c659bba7",
   "metadata": {},
   "outputs": [],
   "source": [
    "df_info[\"nroReuniao\"] = \"\"\n",
    "\n",
    "for index, row in df_info.iterrows():\n",
    "    try:\n",
    "        nroReuniao = row[\"Titulo\"][0:3]\n",
    "        nroReuniao = int(nroReuniao)\n",
    "    except:\n",
    "        nroReuniao = row[\"Titulo\"][0:2]\n",
    "        nroReuniao = int(nroReuniao)\n",
    "\n",
    "    df_info.at[index, \"nroReuniao\"] = nroReuniao"
   ]
  },
  {
   "cell_type": "code",
   "execution_count": 123,
   "id": "bdcda58f",
   "metadata": {},
   "outputs": [],
   "source": [
    "df_info[\"DataReferencia\"] = df_info[\"nroReuniao\"].map(df_minutes_date[\"dataReferencia\"])\n",
    "df_info[\"DataPublicacao\"] = df_info[\"nroReuniao\"].map(df_minutes_date[\"dataPublicacao\"])\t"
   ]
  },
  {
   "cell_type": "code",
   "execution_count": null,
   "id": "44318f3d",
   "metadata": {},
   "outputs": [],
   "source": [
    "df_info.as_excel(f\"{FOLDER_RAW}/minutes_info.xlsx\", index=False)"
   ]
  }
 ],
 "metadata": {
  "kernelspec": {
   "display_name": ".venv",
   "language": "python",
   "name": "python3"
  },
  "language_info": {
   "codemirror_mode": {
    "name": "ipython",
    "version": 3
   },
   "file_extension": ".py",
   "mimetype": "text/x-python",
   "name": "python",
   "nbconvert_exporter": "python",
   "pygments_lexer": "ipython3",
   "version": "3.12.2"
  }
 },
 "nbformat": 4,
 "nbformat_minor": 5
}
