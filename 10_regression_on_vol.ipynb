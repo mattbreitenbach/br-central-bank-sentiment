{
 "cells": [
  {
   "cell_type": "code",
   "execution_count": 136,
   "id": "b226fc40",
   "metadata": {},
   "outputs": [],
   "source": [
    "import pandas as pd\n",
    "import numpy as np\n",
    "import statsmodels.api as sm"
   ]
  },
  {
   "cell_type": "code",
   "execution_count": 137,
   "id": "7b9990f2",
   "metadata": {},
   "outputs": [],
   "source": [
    "futures_ir = pd.read_excel(\"./data/future_interest_rates/future_interest_rates.xlsx\", index_col=\"Date\")\n",
    "futures_ir.index = pd.to_datetime(futures_ir.index)\n",
    "futures_ir.sort_index(inplace=True)\n",
    "\n",
    "futures_ir_returns = futures_ir.pct_change().dropna()"
   ]
  },
  {
   "cell_type": "code",
   "execution_count": 138,
   "id": "7eea6879",
   "metadata": {},
   "outputs": [],
   "source": [
    "minutes_info = pd.read_excel(\"./data/raw/minutes_info.xlsx\")\n",
    "minutes_info = minutes_info[minutes_info[\"DataReferencia\"] >= \"2003-06-17\"]\n",
    "minutes_info = minutes_info.sort_values(\"DataReferencia\", ascending=True)\n",
    "\n",
    "dates_ref = minutes_info[\"DataReferencia\"]\n",
    "detes_pub = minutes_info[\"DataPublicacao\"]"
   ]
  },
  {
   "cell_type": "code",
   "execution_count": 139,
   "id": "23d2a464",
   "metadata": {},
   "outputs": [],
   "source": [
    "returns_pub_date = futures_ir_returns[futures_ir_returns.index.isin(detes_pub)]"
   ]
  },
  {
   "cell_type": "markdown",
   "id": "e623e05f",
   "metadata": {},
   "source": [
    "#### MA Volatility (5 bd)"
   ]
  },
  {
   "cell_type": "code",
   "execution_count": 140,
   "id": "f0e9d766",
   "metadata": {},
   "outputs": [],
   "source": [
    "def calc_vol(retornos: pd.Series) -> float:\n",
    "    vol = retornos.std() * np.sqrt(252)\n",
    "    return vol\n",
    "\n",
    "\n",
    "mw_volatility_5 = futures_ir_returns.rolling(5).apply(calc_vol)\n",
    "mw_volatility_5 = mw_volatility_5.dropna()\n",
    "\n",
    "mw_log_volatility_5 = np.log(mw_volatility_5)\n"
   ]
  },
  {
   "cell_type": "code",
   "execution_count": 141,
   "id": "a330c815",
   "metadata": {},
   "outputs": [],
   "source": [
    "mw_volatility_5[\"dummy_minute_pub_date\"] = 0\n",
    "mw_volatility_5.loc[mw_volatility_5.index.isin(detes_pub), \"dummy_minute_pub_date\"] = 1\n",
    "\n",
    "mw_log_volatility_5[\"dummy_minute_pub_date\"] = 0\n",
    "mw_log_volatility_5.loc[mw_log_volatility_5.index.isin(detes_pub), \"dummy_minute_pub_date\"] = 1"
   ]
  },
  {
   "cell_type": "markdown",
   "id": "c5436492",
   "metadata": {},
   "source": [
    "#### Regression on optimism index"
   ]
  },
  {
   "cell_type": "code",
   "execution_count": 142,
   "id": "ea654c3b",
   "metadata": {},
   "outputs": [],
   "source": [
    "df_optimism = pd.read_excel(\"./data/processed/index_optimism.xlsx\", index_col=0)\n",
    "df_optimism = df_optimism.drop(columns=['filename'])\n",
    "df_optimism.columns = [f\"optimism_{i}\" for i in range(len(df_optimism.columns))]\n",
    "\n",
    "df_optimism_dif = df_optimism.diff()"
   ]
  },
  {
   "cell_type": "code",
   "execution_count": 143,
   "id": "7c2204b7",
   "metadata": {},
   "outputs": [],
   "source": [
    "df_optimism_reg_1 = mw_volatility_5.copy()\n",
    "\n",
    "df_optimism_bool = df_optimism.mask(df_optimism_dif >= 0, 0)\n",
    "df_optimism_bool = df_optimism_bool.mask(df_optimism_dif < 0, 1)\n",
    "df_optimism_bool = df_optimism_bool[1:]\n",
    "df_optimism_reg_2 = pd.concat([mw_volatility_5, df_optimism_bool], axis=1)\n",
    "df_optimism_reg_2 = df_optimism_reg_2.dropna()\n",
    "\n",
    "df_optimism_reg_3 = pd.concat([mw_log_volatility_5, df_optimism], axis=1)\n",
    "df_optimism_reg_3 = df_optimism_reg_3.dropna()\n",
    "\n",
    "df_opt_x_bool = df_optimism_bool.multiply(df_optimism)\n",
    "df_optimism_reg_4 = pd.concat([mw_log_volatility_5, df_opt_x_bool], axis=1) #DIFERENTE\n",
    "df_optimism_reg_4 = df_optimism_reg_4.dropna()\n"
   ]
  },
  {
   "cell_type": "code",
   "execution_count": 144,
   "id": "70313611",
   "metadata": {},
   "outputs": [
    {
     "data": {
      "text/plain": [
       "'\\nfor i in results_list:\\n    print(i[\"Betas\"])\\n    print(\"\\n\")\\n    print(i[\"P-values\"])\\n    print(\"\\n\")\\n    print(i[\"R_sqrd_adj\"])\\n    print(\"\\n\\n\")\\n    print(\"#####################################\")\\n'"
      ]
     },
     "execution_count": 144,
     "metadata": {},
     "output_type": "execute_result"
    }
   ],
   "source": [
    "# REG 1\n",
    "\n",
    "results_list = []\n",
    "possible_y = returns_pub_date.columns.tolist()\n",
    "\n",
    "for maturity in possible_y:\n",
    "    Y = df_optimism_reg_1[maturity]\n",
    "\n",
    "    X = df_optimism_reg_1[\"dummy_minute_pub_date\"]\n",
    "    X = sm.add_constant(X)\n",
    "    \n",
    "    model = sm.OLS(Y, X).fit()\n",
    "\n",
    "    if len(X.columns) > 0:\n",
    "        results_list.append({\n",
    "            'Vertix': maturity,\n",
    "            'Betas': model.params[X.columns],\n",
    "            'P-values': model.pvalues[X.columns],\n",
    "            'R_sqrd_adj': model.rsquared_adj\n",
    "        })\n",
    "\n",
    "\"\"\"\n",
    "for i in results_list:\n",
    "    print(i[\"Betas\"])\n",
    "    print(\"\\n\")\n",
    "    print(i[\"P-values\"])\n",
    "    print(\"\\n\")\n",
    "    print(i[\"R_sqrd_adj\"])\n",
    "    print(\"\\n\\n\")\n",
    "    print(\"#####################################\")\n",
    "\"\"\"\n"
   ]
  },
  {
   "cell_type": "code",
   "execution_count": 145,
   "id": "b6b035a1",
   "metadata": {},
   "outputs": [
    {
     "name": "stderr",
     "output_type": "stream",
     "text": [
      "C:\\Users\\MatheusBreitenbach\\AppData\\Local\\Temp\\ipykernel_8804\\603327018.py:6: SettingWithCopyWarning: \n",
      "A value is trying to be set on a copy of a slice from a DataFrame.\n",
      "Try using .loc[row_indexer,col_indexer] = value instead\n",
      "\n",
      "See the caveats in the documentation: https://pandas.pydata.org/pandas-docs/stable/user_guide/indexing.html#returning-a-view-versus-a-copy\n",
      "  initial_X[\"dummy_minute_pub_date\"] = df_optimism_reg_2[\"dummy_minute_pub_date\"]\n"
     ]
    },
    {
     "data": {
      "text/plain": [
       "'\\nfor i in results_list:\\n    print(i[\"Betas\"])\\n    print(\"\\n\")\\n    print(i[\"P-values\"])\\n    print(\"\\n\")\\n    print(i[\"R_sqrd_adj\"])\\n    print(\"\\n\\n\")\\n    print(\"#####################################\")\\n'"
      ]
     },
     "execution_count": 145,
     "metadata": {},
     "output_type": "execute_result"
    }
   ],
   "source": [
    "# REG 2\n",
    "\n",
    "results_list = []\n",
    "\n",
    "initial_X = df_optimism_reg_2[df_optimism.columns]\n",
    "initial_X[\"dummy_minute_pub_date\"] = df_optimism_reg_2[\"dummy_minute_pub_date\"]\n",
    "\n",
    "possible_y = returns_pub_date.columns.tolist()\n",
    "\n",
    "for maturity in possible_y:\n",
    "    Y = df_optimism_reg_2[maturity]\n",
    "    X = initial_X.copy()\n",
    "\n",
    "    p_value_threshold = 0.10\n",
    "\n",
    "    while True:\n",
    "        X = sm.add_constant(X)\n",
    "        \n",
    "        model = sm.OLS(Y, X).fit()\n",
    "\n",
    "        pvalues = model.pvalues.drop('const')\n",
    "        if pvalues.empty:\n",
    "            break\n",
    "\n",
    "        max_pvalue = pvalues.max()\n",
    "        if max_pvalue > p_value_threshold:\n",
    "            variable_to_remove = pvalues.idxmax()\n",
    "            X = X.drop(variable_to_remove, axis=1)\n",
    "        else:\n",
    "            break\n",
    "        \n",
    "    if len(X.columns) > 0:\n",
    "        results_list.append({\n",
    "            'Vertix': maturity,\n",
    "            'Betas': model.params[X.columns],\n",
    "            'P-values': model.pvalues[X.columns],\n",
    "            'R_sqrd_adj': model.rsquared_adj\n",
    "        })\n",
    "\n",
    "\n",
    "\"\"\"\n",
    "for i in results_list:\n",
    "    print(i[\"Betas\"])\n",
    "    print(\"\\n\")\n",
    "    print(i[\"P-values\"])\n",
    "    print(\"\\n\")\n",
    "    print(i[\"R_sqrd_adj\"])\n",
    "    print(\"\\n\\n\")\n",
    "    print(\"#####################################\")\n",
    "\"\"\""
   ]
  },
  {
   "cell_type": "code",
   "execution_count": 146,
   "id": "ef14e43c",
   "metadata": {},
   "outputs": [
    {
     "name": "stderr",
     "output_type": "stream",
     "text": [
      "C:\\Users\\MatheusBreitenbach\\AppData\\Local\\Temp\\ipykernel_8804\\2520442433.py:6: SettingWithCopyWarning: \n",
      "A value is trying to be set on a copy of a slice from a DataFrame.\n",
      "Try using .loc[row_indexer,col_indexer] = value instead\n",
      "\n",
      "See the caveats in the documentation: https://pandas.pydata.org/pandas-docs/stable/user_guide/indexing.html#returning-a-view-versus-a-copy\n",
      "  initial_X[\"dummy_minute_pub_date\"] = df_optimism_reg_3[\"dummy_minute_pub_date\"]\n"
     ]
    },
    {
     "data": {
      "text/plain": [
       "'\\nfor i in results_list:\\n    print(i[\"Betas\"])\\n    print(\"\\n\")\\n    print(i[\"P-values\"])\\n    print(\"\\n\")\\n    print(i[\"R_sqrd_adj\"])\\n    print(\"\\n\\n\")\\n    print(\"#####################################\")\\n'"
      ]
     },
     "execution_count": 146,
     "metadata": {},
     "output_type": "execute_result"
    }
   ],
   "source": [
    "# REG 3\n",
    "\n",
    "results_list = []\n",
    "\n",
    "initial_X = df_optimism_reg_3[df_optimism.columns]\n",
    "initial_X[\"dummy_minute_pub_date\"] = df_optimism_reg_3[\"dummy_minute_pub_date\"]\n",
    "\n",
    "possible_y = returns_pub_date.columns.tolist()\n",
    "\n",
    "for maturity in possible_y:\n",
    "    Y = df_optimism_reg_3[maturity]\n",
    "    X = initial_X.copy()\n",
    "\n",
    "    p_value_threshold = 0.10\n",
    "\n",
    "    while True:\n",
    "        X = sm.add_constant(X)\n",
    "        \n",
    "        model = sm.OLS(Y, X).fit()\n",
    "\n",
    "        pvalues = model.pvalues.drop('const')\n",
    "        if pvalues.empty:\n",
    "            break\n",
    "\n",
    "        max_pvalue = pvalues.max()\n",
    "        if max_pvalue > p_value_threshold:\n",
    "            variable_to_remove = pvalues.idxmax()\n",
    "            X = X.drop(variable_to_remove, axis=1)\n",
    "        else:\n",
    "            break\n",
    "        \n",
    "    if len(X.columns) > 0:\n",
    "        results_list.append({\n",
    "            'Vertix': maturity,\n",
    "            'Betas': model.params[X.columns],\n",
    "            'P-values': model.pvalues[X.columns],\n",
    "            'R_sqrd_adj': model.rsquared_adj\n",
    "        })\n",
    "\n",
    "\n",
    "\"\"\"\n",
    "for i in results_list:\n",
    "    print(i[\"Betas\"])\n",
    "    print(\"\\n\")\n",
    "    print(i[\"P-values\"])\n",
    "    print(\"\\n\")\n",
    "    print(i[\"R_sqrd_adj\"])\n",
    "    print(\"\\n\\n\")\n",
    "    print(\"#####################################\")\n",
    "\"\"\"\n"
   ]
  },
  {
   "cell_type": "code",
   "execution_count": 147,
   "id": "6c718183",
   "metadata": {},
   "outputs": [
    {
     "name": "stderr",
     "output_type": "stream",
     "text": [
      "C:\\Users\\MatheusBreitenbach\\AppData\\Local\\Temp\\ipykernel_8804\\3812797754.py:6: SettingWithCopyWarning: \n",
      "A value is trying to be set on a copy of a slice from a DataFrame.\n",
      "Try using .loc[row_indexer,col_indexer] = value instead\n",
      "\n",
      "See the caveats in the documentation: https://pandas.pydata.org/pandas-docs/stable/user_guide/indexing.html#returning-a-view-versus-a-copy\n",
      "  initial_X[\"dummy_minute_pub_date\"] = df_optimism_reg_4[\"dummy_minute_pub_date\"]\n"
     ]
    },
    {
     "data": {
      "text/plain": [
       "'\\nfor i in results_list:\\n    print(i[\"Betas\"])\\n    print(\"\\n\")\\n    print(i[\"P-values\"])\\n    print(\"\\n\")\\n    print(i[\"R_sqrd_adj\"])\\n    print(\"\\n\\n\")\\n    print(\"#####################################\")\\n'"
      ]
     },
     "execution_count": 147,
     "metadata": {},
     "output_type": "execute_result"
    }
   ],
   "source": [
    "# REG 4\n",
    "\n",
    "results_list = []\n",
    "\n",
    "initial_X = df_optimism_reg_4[df_optimism.columns]\n",
    "initial_X[\"dummy_minute_pub_date\"] = df_optimism_reg_4[\"dummy_minute_pub_date\"]\n",
    "\n",
    "possible_y = returns_pub_date.columns.tolist()\n",
    "for maturity in possible_y:\n",
    "    Y = df_optimism_reg_4[maturity]\n",
    "    X = initial_X.copy()\n",
    "\n",
    "    p_value_threshold = 0.10\n",
    "\n",
    "    while True:\n",
    "        X = sm.add_constant(X)\n",
    "        \n",
    "        model = sm.OLS(Y, X).fit()\n",
    "\n",
    "        pvalues = model.pvalues.drop('const')\n",
    "        if pvalues.empty:\n",
    "            break\n",
    "\n",
    "        max_pvalue = pvalues.max()\n",
    "        if max_pvalue > p_value_threshold:\n",
    "            variable_to_remove = pvalues.idxmax()\n",
    "            X = X.drop(variable_to_remove, axis=1)\n",
    "        else:\n",
    "            break\n",
    "        \n",
    "    if len(X.columns) > 0:\n",
    "        results_list.append({\n",
    "            'Vertix': maturity,\n",
    "            'Betas': model.params[X.columns],\n",
    "            'P-values': model.pvalues[X.columns],\n",
    "            'R_sqrd_adj': model.rsquared_adj\n",
    "        })\n",
    "\n",
    "\n",
    "\"\"\"\n",
    "for i in results_list:\n",
    "    print(i[\"Betas\"])\n",
    "    print(\"\\n\")\n",
    "    print(i[\"P-values\"])\n",
    "    print(\"\\n\")\n",
    "    print(i[\"R_sqrd_adj\"])\n",
    "    print(\"\\n\\n\")\n",
    "    print(\"#####################################\")\n",
    "\"\"\"\n"
   ]
  },
  {
   "cell_type": "markdown",
   "id": "660b61aa",
   "metadata": {},
   "source": [
    "#### Regression on uncertainty index"
   ]
  },
  {
   "cell_type": "code",
   "execution_count": 148,
   "id": "a180fdf7",
   "metadata": {},
   "outputs": [],
   "source": [
    "df_uncertainty = pd.read_excel(\"./data/processed/index_uncertainty.xlsx\", index_col=0)\n",
    "df_uncertainty = df_uncertainty.drop(columns=['filename'])\n",
    "df_uncertainty.columns = [f\"optimism_{i}\" for i in range(len(df_uncertainty.columns))]\n",
    "\n",
    "df_uncertainty_dif = df_uncertainty.diff()"
   ]
  },
  {
   "cell_type": "code",
   "execution_count": 149,
   "id": "a5a44c1c",
   "metadata": {},
   "outputs": [],
   "source": [
    "df_uncertainty_reg_1 = mw_volatility_5.copy()\n",
    "\n",
    "df_uncertainty_bool = df_uncertainty.mask(df_uncertainty_dif >= 0, 0)\n",
    "df_uncertainty_bool = df_uncertainty_bool.mask(df_uncertainty_dif < 0, 1)\n",
    "df_uncertainty_bool = df_uncertainty_bool[1:]\n",
    "df_uncertainty_reg_2 = pd.concat([mw_volatility_5, df_uncertainty_bool], axis=1)\n",
    "df_uncertainty_reg_2 = df_uncertainty_reg_2.dropna()\n",
    "\n",
    "df_uncertainty_reg_3 = pd.concat([mw_log_volatility_5, df_uncertainty], axis=1)\n",
    "df_uncertainty_reg_3 = df_uncertainty_reg_3.dropna()\n",
    "\n",
    "df_opt_x_bool = df_uncertainty_bool.multiply(df_uncertainty)\n",
    "df_uncertainty_reg_4 = pd.concat([mw_log_volatility_5, df_opt_x_bool], axis=1) #DIFERENTE\n",
    "df_uncertainty_reg_4 = df_uncertainty_reg_4.dropna()\n"
   ]
  },
  {
   "cell_type": "code",
   "execution_count": 150,
   "id": "7d3579a2",
   "metadata": {},
   "outputs": [
    {
     "data": {
      "text/plain": [
       "'\\nfor i in results_list:\\n    print(i[\"Betas\"])\\n    print(\"\\n\")\\n    print(i[\"P-values\"])\\n    print(\"\\n\")\\n    print(i[\"R_sqrd_adj\"])\\n    print(\"\\n\\n\")\\n    print(\"#####################################\")\\n'"
      ]
     },
     "execution_count": 150,
     "metadata": {},
     "output_type": "execute_result"
    }
   ],
   "source": [
    "# REG 1\n",
    "\n",
    "results_list = []\n",
    "possible_y = returns_pub_date.columns.tolist()\n",
    "\n",
    "for maturity in possible_y:\n",
    "    Y = df_uncertainty_reg_1[maturity]\n",
    "\n",
    "    X = df_uncertainty_reg_1[\"dummy_minute_pub_date\"]\n",
    "    X = sm.add_constant(X)\n",
    "    \n",
    "    model = sm.OLS(Y, X).fit()\n",
    "\n",
    "    if len(X.columns) > 0:\n",
    "        results_list.append({\n",
    "            'Vertix': maturity,\n",
    "            'Betas': model.params[X.columns],\n",
    "            'P-values': model.pvalues[X.columns],\n",
    "            'R_sqrd_adj': model.rsquared_adj\n",
    "        })\n",
    "\n",
    "\"\"\"\n",
    "for i in results_list:\n",
    "    print(i[\"Betas\"])\n",
    "    print(\"\\n\")\n",
    "    print(i[\"P-values\"])\n",
    "    print(\"\\n\")\n",
    "    print(i[\"R_sqrd_adj\"])\n",
    "    print(\"\\n\\n\")\n",
    "    print(\"#####################################\")\n",
    "\"\"\"\n"
   ]
  },
  {
   "cell_type": "code",
   "execution_count": 151,
   "id": "752d3bf0",
   "metadata": {},
   "outputs": [
    {
     "name": "stderr",
     "output_type": "stream",
     "text": [
      "C:\\Users\\MatheusBreitenbach\\AppData\\Local\\Temp\\ipykernel_8804\\1649851207.py:6: SettingWithCopyWarning: \n",
      "A value is trying to be set on a copy of a slice from a DataFrame.\n",
      "Try using .loc[row_indexer,col_indexer] = value instead\n",
      "\n",
      "See the caveats in the documentation: https://pandas.pydata.org/pandas-docs/stable/user_guide/indexing.html#returning-a-view-versus-a-copy\n",
      "  initial_X[\"dummy_minute_pub_date\"] = df_uncertainty_reg_2[\"dummy_minute_pub_date\"]\n"
     ]
    },
    {
     "data": {
      "text/plain": [
       "'\\nfor i in results_list:\\n    print(i[\"Betas\"])\\n    print(\"\\n\")\\n    print(i[\"P-values\"])\\n    print(\"\\n\")\\n    print(i[\"R_sqrd_adj\"])\\n    print(\"\\n\\n\")\\n    print(\"#####################################\")\\n'"
      ]
     },
     "execution_count": 151,
     "metadata": {},
     "output_type": "execute_result"
    }
   ],
   "source": [
    "# REG 2\n",
    "\n",
    "results_list = []\n",
    "\n",
    "initial_X = df_uncertainty_reg_2[df_uncertainty.columns]\n",
    "initial_X[\"dummy_minute_pub_date\"] = df_uncertainty_reg_2[\"dummy_minute_pub_date\"]\n",
    "\n",
    "possible_y = returns_pub_date.columns.tolist()\n",
    "\n",
    "for maturity in possible_y:\n",
    "    Y = df_uncertainty_reg_2[maturity]\n",
    "    X = initial_X.copy()\n",
    "\n",
    "    p_value_threshold = 0.10\n",
    "\n",
    "    while True:\n",
    "        X = sm.add_constant(X)\n",
    "        \n",
    "        model = sm.OLS(Y, X).fit()\n",
    "\n",
    "        pvalues = model.pvalues.drop('const')\n",
    "        if pvalues.empty:\n",
    "            break\n",
    "\n",
    "        max_pvalue = pvalues.max()\n",
    "        if max_pvalue > p_value_threshold:\n",
    "            variable_to_remove = pvalues.idxmax()\n",
    "            X = X.drop(variable_to_remove, axis=1)\n",
    "        else:\n",
    "            break\n",
    "        \n",
    "    if len(X.columns) > 0:\n",
    "        results_list.append({\n",
    "            'Vertix': maturity,\n",
    "            'Betas': model.params[X.columns],\n",
    "            'P-values': model.pvalues[X.columns],\n",
    "            'R_sqrd_adj': model.rsquared_adj\n",
    "        })\n",
    "\n",
    "\"\"\"\n",
    "for i in results_list:\n",
    "    print(i[\"Betas\"])\n",
    "    print(\"\\n\")\n",
    "    print(i[\"P-values\"])\n",
    "    print(\"\\n\")\n",
    "    print(i[\"R_sqrd_adj\"])\n",
    "    print(\"\\n\\n\")\n",
    "    print(\"#####################################\")\n",
    "\"\"\"\n"
   ]
  },
  {
   "cell_type": "code",
   "execution_count": 152,
   "id": "9a41d98d",
   "metadata": {},
   "outputs": [
    {
     "name": "stderr",
     "output_type": "stream",
     "text": [
      "C:\\Users\\MatheusBreitenbach\\AppData\\Local\\Temp\\ipykernel_8804\\2515094881.py:7: SettingWithCopyWarning: \n",
      "A value is trying to be set on a copy of a slice from a DataFrame.\n",
      "Try using .loc[row_indexer,col_indexer] = value instead\n",
      "\n",
      "See the caveats in the documentation: https://pandas.pydata.org/pandas-docs/stable/user_guide/indexing.html#returning-a-view-versus-a-copy\n",
      "  initial_X[\"dummy_minute_pub_date\"] = df_uncertainty_reg_3[\"dummy_minute_pub_date\"]\n"
     ]
    },
    {
     "data": {
      "text/plain": [
       "'\\nfor i in results_list:\\n    print(i[\"Betas\"])\\n    print(\"\\n\")\\n    print(i[\"P-values\"])\\n    print(\"\\n\")\\n    print(i[\"R_sqrd_adj\"])\\n    print(\"\\n\\n\")\\n    print(\"#####################################\")\\n'"
      ]
     },
     "execution_count": 152,
     "metadata": {},
     "output_type": "execute_result"
    }
   ],
   "source": [
    "# REG 3\n",
    "# GREAT RESULTS HERE\n",
    "\n",
    "results_list = []\n",
    "\n",
    "initial_X = df_uncertainty_reg_3[df_uncertainty.columns]\n",
    "initial_X[\"dummy_minute_pub_date\"] = df_uncertainty_reg_3[\"dummy_minute_pub_date\"]\n",
    "\n",
    "possible_y = returns_pub_date.columns.tolist()\n",
    "\n",
    "for maturity in possible_y:\n",
    "    Y = df_uncertainty_reg_3[maturity]\n",
    "    X = initial_X.copy()\n",
    "\n",
    "    p_value_threshold = 0.10\n",
    "\n",
    "    while True:\n",
    "        X = sm.add_constant(X)\n",
    "        \n",
    "        model = sm.OLS(Y, X).fit()\n",
    "\n",
    "        pvalues = model.pvalues.drop('const')\n",
    "        if pvalues.empty:\n",
    "            break\n",
    "\n",
    "        max_pvalue = pvalues.max()\n",
    "        if max_pvalue > p_value_threshold:\n",
    "            variable_to_remove = pvalues.idxmax()\n",
    "            X = X.drop(variable_to_remove, axis=1)\n",
    "        else:\n",
    "            break\n",
    "        \n",
    "    if len(X.columns) > 0:\n",
    "        results_list.append({\n",
    "            'Vertix': maturity,\n",
    "            'Betas': model.params[X.columns],\n",
    "            'P-values': model.pvalues[X.columns],\n",
    "            'R_sqrd_adj': model.rsquared_adj\n",
    "        })\n",
    "\n",
    "\n",
    "\"\"\"\n",
    "for i in results_list:\n",
    "    print(i[\"Betas\"])\n",
    "    print(\"\\n\")\n",
    "    print(i[\"P-values\"])\n",
    "    print(\"\\n\")\n",
    "    print(i[\"R_sqrd_adj\"])\n",
    "    print(\"\\n\\n\")\n",
    "    print(\"#####################################\")\n",
    "\"\"\""
   ]
  },
  {
   "cell_type": "code",
   "execution_count": null,
   "id": "9dcbb141",
   "metadata": {},
   "outputs": [
    {
     "name": "stderr",
     "output_type": "stream",
     "text": [
      "C:\\Users\\MatheusBreitenbach\\AppData\\Local\\Temp\\ipykernel_8804\\3858235048.py:6: SettingWithCopyWarning: \n",
      "A value is trying to be set on a copy of a slice from a DataFrame.\n",
      "Try using .loc[row_indexer,col_indexer] = value instead\n",
      "\n",
      "See the caveats in the documentation: https://pandas.pydata.org/pandas-docs/stable/user_guide/indexing.html#returning-a-view-versus-a-copy\n",
      "  initial_X[\"dummy_minute_pub_date\"] = df_uncertainty_reg_4[\"dummy_minute_pub_date\"]\n"
     ]
    },
    {
     "data": {
      "text/plain": [
       "'\\nfor i in results_list:\\n    print(i[\"Betas\"])\\n    print(\"\\n\")\\n    print(i[\"P-values\"])\\n    print(\"\\n\")\\n    print(i[\"R_sqrd_adj\"])\\n    print(\"\\n\\n\")\\n    print(\"#####################################\")\\n'"
      ]
     },
     "execution_count": 153,
     "metadata": {},
     "output_type": "execute_result"
    }
   ],
   "source": [
    "# REG 4\n",
    "\n",
    "results_list = []\n",
    "\n",
    "initial_X = df_uncertainty_reg_4[df_uncertainty.columns]\n",
    "initial_X[\"dummy_minute_pub_date\"] = df_uncertainty_reg_4[\"dummy_minute_pub_date\"]\n",
    "\n",
    "possible_y = returns_pub_date.columns.tolist()\n",
    "for maturity in possible_y:\n",
    "    Y = df_uncertainty_reg_4[maturity]\n",
    "    X = initial_X.copy()\n",
    "\n",
    "    p_value_threshold = 0.10\n",
    "\n",
    "    while True:\n",
    "        X = sm.add_constant(X)\n",
    "        \n",
    "        model = sm.OLS(Y, X).fit()\n",
    "\n",
    "        pvalues = model.pvalues.drop('const')\n",
    "        if pvalues.empty:\n",
    "            break\n",
    "\n",
    "        max_pvalue = pvalues.max()\n",
    "        if max_pvalue > p_value_threshold:\n",
    "            variable_to_remove = pvalues.idxmax()\n",
    "            X = X.drop(variable_to_remove, axis=1)\n",
    "        else:\n",
    "            break\n",
    "        \n",
    "    if len(X.columns) > 0:\n",
    "        results_list.append({\n",
    "            'Vertix': maturity,\n",
    "            'Betas': model.params[X.columns],\n",
    "            'P-values': model.pvalues[X.columns],\n",
    "            'R_sqrd_adj': model.rsquared_adj\n",
    "        })\n",
    "\n",
    "\n",
    "\"\"\"\n",
    "for i in results_list:\n",
    "    print(i[\"Betas\"])\n",
    "    print(\"\\n\")\n",
    "    print(i[\"P-values\"])\n",
    "    print(\"\\n\")\n",
    "    print(i[\"R_sqrd_adj\"])\n",
    "    print(\"\\n\\n\")\n",
    "    print(\"#####################################\")\n",
    "\"\"\""
   ]
  },
  {
   "cell_type": "code",
   "execution_count": null,
   "id": "90b0ea23",
   "metadata": {},
   "outputs": [],
   "source": []
  }
 ],
 "metadata": {
  "kernelspec": {
   "display_name": "Python 3",
   "language": "python",
   "name": "python3"
  },
  "language_info": {
   "codemirror_mode": {
    "name": "ipython",
    "version": 3
   },
   "file_extension": ".py",
   "mimetype": "text/x-python",
   "name": "python",
   "nbconvert_exporter": "python",
   "pygments_lexer": "ipython3",
   "version": "3.13.1"
  }
 },
 "nbformat": 4,
 "nbformat_minor": 5
}
