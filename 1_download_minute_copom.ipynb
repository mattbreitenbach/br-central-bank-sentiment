{
 "cells": [
  {
   "cell_type": "code",
   "execution_count": null,
   "id": "732b526e",
   "metadata": {},
   "outputs": [],
   "source": [
    "# baixando informações das atas do copom\n",
    "import requests\n",
    "import pandas as pd\n",
    "\n",
    "url = \"https://www.bcb.gov.br/api/servico/sitebcb/copomminutes/ultimas?quantidade=1000&filtro=\"\n",
    "\n",
    "response = requests.get(url)\n",
    "response.json()[\"conteudo\"]\n",
    "\n",
    "df = pd.DataFrame(response.json()[\"conteudo\"])\n",
    "df = df[[\"DataReferencia\", \"Titulo\", \"LinkPagina\", \"Url\"]]\n",
    "\n",
    "df.head(-2)\n",
    "\n",
    "df.to_excel(\"info_minutes.xlsx\", index=False)"
   ]
  },
  {
   "cell_type": "code",
   "execution_count": 61,
   "id": "9c49b413",
   "metadata": {},
   "outputs": [],
   "source": [
    "def download_pdf(url, folder, file_name):\n",
    "    try:\n",
    "        response = requests.get(url, stream=True)\n",
    "        response.raise_for_status() \n",
    "\n",
    "        with open(f\"{folder}/{file_name}\", 'wb') as f:\n",
    "            for chunk in response.iter_content(chunk_size=8192):\n",
    "                f.write(chunk)\n",
    "        print(f\"Arquivo {file_name} baixado com sucesso!\")\n",
    "\n",
    "    except requests.exceptions.RequestException as e:\n",
    "        print(f\"Erro ao baixar o arquivo: {e}\")"
   ]
  },
  {
   "cell_type": "code",
   "execution_count": 76,
   "id": "ecdc0b29",
   "metadata": {},
   "outputs": [],
   "source": [
    "folder_path = \"./data/copom_minutes_raw\"\n",
    "bcb_url = \"https://www.bcb.gov.br\"\n",
    "\n",
    "#for index, row in df.iterrows():\n",
    "#    file_url = f\"{bcb_url}{row['Url']}\"\n",
    "#    download_pdf(file_url, folder_path, f\"{row['Titulo']}.pdf\")"
   ]
  },
  {
   "cell_type": "code",
   "execution_count": 77,
   "id": "be0ba99a",
   "metadata": {},
   "outputs": [],
   "source": [
    "import PyPDF2\n",
    "\n",
    "def pdf2text(file_path):\n",
    "    reader = PyPDF2.PdfReader(file_path)\n",
    "    texts = []\n",
    "    for page in reader.pages:\n",
    "        texts.append(page.extract_text())\n",
    "    return texts\n"
   ]
  },
  {
   "cell_type": "code",
   "execution_count": 79,
   "id": "ace9c78d",
   "metadata": {},
   "outputs": [
    {
     "name": "stdout",
     "output_type": "stream",
     "text": [
      "Texto salvo com sucesso em: ./data/copom_minutes_texts/271st Meeting - June 17-18, 2025.txt\n"
     ]
    }
   ],
   "source": [
    "pdf_path = f\"{folder_path}/271st Meeting - June 17-18, 2025.pdf\"\n",
    "texts = pdf2text(pdf_path)\n",
    "output_txt_path = \"./data/copom_minutes_texts/271st Meeting - June 17-18, 2025.txt\"\n",
    "\n",
    "try:\n",
    "    with open(output_txt_path, 'w', encoding='utf-8') as f:\n",
    "        for page_text in texts:\n",
    "            if page_text:\n",
    "                f.write(page_text)\n",
    "                f.write(\"\\n\")\n",
    "    print(f\"Texto salvo com sucesso em: {output_txt_path}\")\n",
    "except IOError as e:\n",
    "    print(f\"Erro ao salvar o arquivo: {e}\")"
   ]
  },
  {
   "cell_type": "code",
   "execution_count": null,
   "id": "8fb7efd6",
   "metadata": {},
   "outputs": [],
   "source": []
  }
 ],
 "metadata": {
  "kernelspec": {
   "display_name": "Python 3",
   "language": "python",
   "name": "python3"
  },
  "language_info": {
   "codemirror_mode": {
    "name": "ipython",
    "version": 3
   },
   "file_extension": ".py",
   "mimetype": "text/x-python",
   "name": "python",
   "nbconvert_exporter": "python",
   "pygments_lexer": "ipython3",
   "version": "3.13.1"
  }
 },
 "nbformat": 4,
 "nbformat_minor": 5
}
