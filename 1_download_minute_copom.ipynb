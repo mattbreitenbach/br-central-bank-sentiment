{
 "cells": [
  {
   "cell_type": "code",
   "execution_count": 1,
   "id": "732b526e",
   "metadata": {},
   "outputs": [],
   "source": [
    "import requests\n",
    "import pandas as pd"
   ]
  },
  {
   "cell_type": "code",
   "execution_count": null,
   "id": "f18d794d",
   "metadata": {},
   "outputs": [],
   "source": [
    "# Extracting and saving info about the Copom Minutes from the Brazilian Central Bank API.\n",
    "url = \"https://www.bcb.gov.br/api/servico/sitebcb/copomminutes/ultimas?quantidade=1000&filtro=\"\n",
    "\n",
    "response = requests.get(url)\n",
    "response.json()[\"conteudo\"]\n",
    "\n",
    "df_minutes_info = pd.DataFrame(response.json()[\"conteudo\"])\n",
    "df_minutes_info = df_minutes_info[[\"DataReferencia\", \"Titulo\", \"LinkPagina\", \"Url\"]]\n",
    "df_minutes_info.head(-2)\n",
    "\n",
    "df_minutes_info.to_excel(\"minutes_info.xlsx\", index=False)"
   ]
  },
  {
   "cell_type": "code",
   "execution_count": null,
   "id": "9c49b413",
   "metadata": {},
   "outputs": [],
   "source": [
    "def download_pdf(url: str, save_folder: str, file_name: str) -> None:\n",
    "    \"\"\"\n",
    "    Download a PDF file from a URL and save it to a specified folder with a given file name.\n",
    "    \n",
    "    Parameters:\n",
    "    - url (str): The URL of the PDF file to download.\n",
    "    - save_folder (str): The folder where the PDF file will be saved.\n",
    "    - file_name (str): The name to save the PDF file as.\n",
    "    \"\"\"\n",
    "    try:\n",
    "        response = requests.get(url, stream=True)\n",
    "        response.raise_for_status() \n",
    "\n",
    "        with open(f\"{save_folder}/{file_name}\", 'wb') as f:\n",
    "            for chunk in response.iter_content(chunk_size=8192):\n",
    "                f.write(chunk)\n",
    "        print(f\"[INFO] Download successful: {file_name}!\")\n",
    "\n",
    "    except requests.exceptions.RequestException as e:\n",
    "        print(f\"[INFO] Error downloading {file_name}: {e}\")"
   ]
  },
  {
   "cell_type": "code",
   "execution_count": null,
   "id": "ecdc0b29",
   "metadata": {},
   "outputs": [],
   "source": [
    "# Iterating df_minutes_info to download the english version of Copom Minutes from the Brazilian Central Bank website.\n",
    "\n",
    "save_folder_path = \"./data/copom_minutes_raw\"\n",
    "bcb_url = \"https://www.bcb.gov.br\"\n",
    "\n",
    "for index, row in df_minutes_info.iterrows():\n",
    "    file_url = f\"https://www.bcb.gov.br{row['Url']}\"\n",
    "    download_pdf(file_url, save_folder_path, f\"{row['Titulo']}.pdf\")"
   ]
  }
 ],
 "metadata": {
  "kernelspec": {
   "display_name": "Python 3",
   "language": "python",
   "name": "python3"
  },
  "language_info": {
   "codemirror_mode": {
    "name": "ipython",
    "version": 3
   },
   "file_extension": ".py",
   "mimetype": "text/x-python",
   "name": "python",
   "nbconvert_exporter": "python",
   "pygments_lexer": "ipython3",
   "version": "3.13.1"
  }
 },
 "nbformat": 4,
 "nbformat_minor": 5
}
