{
 "cells": [
  {
   "cell_type": "code",
   "execution_count": 26,
   "id": "92948d7f",
   "metadata": {},
   "outputs": [],
   "source": [
    "import glob\n",
    "import os\n",
    "import gensim\n",
    "from gensim import corpora\n",
    "from gensim.models import LdaModel\n",
    "import pandas as pd"
   ]
  },
  {
   "cell_type": "code",
   "execution_count": 27,
   "id": "03a468f3",
   "metadata": {},
   "outputs": [],
   "source": [
    "FOLDER_MINUTES_LEMMATIZED = \"./data/processed/copom_minutes_lemmatized\""
   ]
  },
  {
   "cell_type": "code",
   "execution_count": 28,
   "id": "eeb6a8fc",
   "metadata": {},
   "outputs": [],
   "source": [
    "all_docs_with_metadata = []\n",
    "all_docs_for_lda = []\n",
    "\n",
    "filepaths = glob.glob(f\"{FOLDER_MINUTES_LEMMATIZED}/*.txt\")\n",
    "for path in filepaths:\n",
    "    filename = os.path.basename(path)\n",
    "    with open(path, 'r', encoding='utf-8') as f:\n",
    "        paragraphs = [line.split() for line in f.readlines() if len(line.split()) > 5]\n",
    "        for p in paragraphs:\n",
    "            all_docs_with_metadata.append({'text': p, 'filename': filename})\n",
    "            all_docs_for_lda.append(p)"
   ]
  },
  {
   "cell_type": "code",
   "execution_count": 29,
   "id": "900779a6",
   "metadata": {},
   "outputs": [],
   "source": [
    "dictionary = corpora.Dictionary(all_docs_for_lda)\n",
    "\n",
    "corpus = [dictionary.doc2bow(doc) for doc in all_docs_for_lda]"
   ]
  },
  {
   "cell_type": "code",
   "execution_count": 30,
   "id": "60015880",
   "metadata": {},
   "outputs": [],
   "source": [
    "NUM_TOPICS = 8\n",
    "\n",
    "lda_model = LdaModel(corpus=corpus,\n",
    "                     id2word=dictionary,\n",
    "                     num_topics=NUM_TOPICS,\n",
    "                     random_state=100,\n",
    "                     passes=15)"
   ]
  },
  {
   "cell_type": "code",
   "execution_count": 31,
   "id": "ea098ea8",
   "metadata": {},
   "outputs": [
    {
     "name": "stdout",
     "output_type": "stream",
     "text": [
      "(0, '0.018*\"economy\" + 0.016*\"economic\" + 0.015*\"growth\" + 0.013*\"market\" + 0.012*\"activity\" + 0.011*\"demand\" + 0.010*\"high\" + 0.009*\"remain\" + 0.009*\"recovery\" + 0.008*\"domestic\"')\n",
      "(1, '0.066*\"inflation\" + 0.054*\"rate\" + 0.034*\"target\" + 0.031*\"scenario\" + 0.027*\"meeting\" + 0.026*\"copom\" + 0.026*\"exchange\" + 0.021*\"expectation\" + 0.020*\"projection\" + 0.017*\"forecast\"')\n",
      "(2, '0.062*\"good\" + 0.044*\"production\" + 0.031*\"core\" + 0.030*\"increase\" + 0.026*\"capital\" + 0.020*\"industrial\" + 0.019*\"month\" + 0.017*\"consumer\" + 0.013*\"industry\" + 0.012*\"decrease\"')\n",
      "(3, '0.049*\"inflation\" + 0.043*\"monetary\" + 0.039*\"policy\" + 0.030*\"committee\" + 0.022*\"copom\" + 0.016*\"risk\" + 0.016*\"target\" + 0.014*\"scenario\" + 0.013*\"rate\" + 0.012*\"member\"')\n",
      "(4, '0.062*\"billion\" + 0.043*\"u\" + 0.024*\"operation\" + 0.022*\"credit\" + 0.021*\"increase\" + 0.020*\"month\" + 0.020*\"total\" + 0.019*\"reach\" + 0.018*\"rate\" + 0.018*\"average\"')\n",
      "(5, '0.078*\"price\" + 0.046*\"increase\" + 0.036*\"inflation\" + 0.032*\"month\" + 0.028*\"index\" + 0.016*\"ipca\" + 0.014*\"food\" + 0.013*\"consumer\" + 0.013*\"change\" + 0.012*\"twelve\"')\n",
      "(6, '0.034*\"increase\" + 0.024*\"sale\" + 0.022*\"month\" + 0.019*\"accord\" + 0.018*\"compare\" + 0.017*\"year\" + 0.016*\"data\" + 0.015*\"adjust\" + 0.015*\"quarter\" + 0.014*\"seasonally\"')\n",
      "(7, '0.044*\"price\" + 0.042*\"rate\" + 0.023*\"projection\" + 0.016*\"interest\" + 0.015*\"meeting\" + 0.013*\"consider\" + 0.012*\"readjustment\" + 0.012*\"base\" + 0.012*\"copom\" + 0.012*\"increase\"')\n"
     ]
    }
   ],
   "source": [
    "topics = lda_model.print_topics(num_words=10)\n",
    "for topic in topics:\n",
    "    print(topic)"
   ]
  },
  {
   "cell_type": "code",
   "execution_count": 32,
   "id": "75d2b6ce",
   "metadata": {},
   "outputs": [],
   "source": [
    "# 5. Organizar os resultados em um DataFrame\n",
    "def get_dominant_topic(doc_bow, lda_model):\n",
    "    topic_dist = lda_model.get_document_topics(doc_bow)\n",
    "    dominant_topic = sorted(topic_dist, key=lambda x: x[1], reverse=True)[0][0]\n",
    "    return dominant_topic"
   ]
  },
  {
   "cell_type": "code",
   "execution_count": 34,
   "id": "8564f67e",
   "metadata": {},
   "outputs": [
    {
     "name": "stdout",
     "output_type": "stream",
     "text": [
      "                  filename                                      original_text  \\\n",
      "0  100th Copom minutes.txt  member monetary policy committee analyze recen...   \n",
      "1  100th Copom minutes.txt  august broad national consumer price index ipc...   \n",
      "2  100th Copom minutes.txt  general price index rise august compare july t...   \n",
      "3  100th Copom minutes.txt  alcohol fuel gasoline main individual contribu...   \n",
      "4  100th Copom minutes.txt  august market price increase july account mont...   \n",
      "\n",
      "   dominant_topic  \n",
      "0               3  \n",
      "1               5  \n",
      "2               5  \n",
      "3               5  \n",
      "4               5  \n"
     ]
    }
   ],
   "source": [
    "results = []\n",
    "# Itera sobre a lista que contém os metadados\n",
    "for i, doc_info in enumerate(all_docs_with_metadata):\n",
    "    doc_bow = corpus[i] # Pega o BoW correspondente pelo índice\n",
    "    dominant_topic = get_dominant_topic(doc_bow, lda_model)\n",
    "    results.append({\n",
    "        'filename': doc_info['filename'], # Adiciona o nome do arquivo\n",
    "        'original_text': ' '.join(doc_info['text']),\n",
    "        'dominant_topic': dominant_topic\n",
    "    })\n",
    "\n",
    "df_results = pd.DataFrame(results)\n",
    "df_results.to_excel('./data/processed/lda_results.xlsx', index=False)\n",
    "print(df_results.head())"
   ]
  }
 ],
 "metadata": {
  "kernelspec": {
   "display_name": ".venv",
   "language": "python",
   "name": "python3"
  },
  "language_info": {
   "codemirror_mode": {
    "name": "ipython",
    "version": 3
   },
   "file_extension": ".py",
   "mimetype": "text/x-python",
   "name": "python",
   "nbconvert_exporter": "python",
   "pygments_lexer": "ipython3",
   "version": "3.12.10"
  }
 },
 "nbformat": 4,
 "nbformat_minor": 5
}
