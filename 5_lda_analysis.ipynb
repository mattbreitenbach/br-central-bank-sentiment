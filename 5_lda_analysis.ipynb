{
 "cells": [
  {
   "cell_type": "markdown",
   "id": "3ffe7196",
   "metadata": {},
   "source": [
    "#### Latent Dirichlet Allocation (LDA) Topic Modeling\n",
    "\n",
    "This notebook is dedicated to Latent Dirichlet Allocation (LDA), a technique to discover the abstract \"topics\".\n",
    " * LDA is often used to categoryzed documents, but in this context it will categorize paragraphs.\n",
    " * The script applies LDA (gensim) to identify recurring themes across the minutes.\n",
    " * The number of topics (n_components), is set to 8. This decision was taken on appendix, notebook 5.1. \n",
    " * The script also displays the most significant words for each of these identified topics."
   ]
  },
  {
   "cell_type": "code",
   "execution_count": null,
   "id": "92948d7f",
   "metadata": {},
   "outputs": [],
   "source": [
    "import glob\n",
    "import os\n",
    "from gensim import corpora\n",
    "from gensim.models import LdaModel\n",
    "import pandas as pd"
   ]
  },
  {
   "cell_type": "code",
   "execution_count": null,
   "id": "03a468f3",
   "metadata": {},
   "outputs": [],
   "source": [
    "FOLDER_MINUTES_LEMMATIZED = \"./data/processed/copom_minutes_lemmatized\""
   ]
  },
  {
   "cell_type": "code",
   "execution_count": null,
   "id": "eeb6a8fc",
   "metadata": {},
   "outputs": [],
   "source": [
    "all_docs_with_metadata = []\n",
    "all_docs_for_lda = []\n",
    "\n",
    "filepaths = glob.glob(f\"{FOLDER_MINUTES_LEMMATIZED}/*.txt\")\n",
    "for path in filepaths:\n",
    "    filename = os.path.basename(path)\n",
    "    with open(path, 'r', encoding='utf-8') as f:\n",
    "        paragraphs = [line.split() for line in f.readlines() if len(line.split()) > 5]\n",
    "        for p in paragraphs:\n",
    "            all_docs_with_metadata.append({'text': p, 'filename': filename})\n",
    "            all_docs_for_lda.append(p)"
   ]
  },
  {
   "cell_type": "code",
   "execution_count": null,
   "id": "900779a6",
   "metadata": {},
   "outputs": [],
   "source": [
    "dictionary = corpora.Dictionary(all_docs_for_lda)\n",
    "\n",
    "corpus = [dictionary.doc2bow(doc) for doc in all_docs_for_lda]"
   ]
  },
  {
   "cell_type": "code",
   "execution_count": null,
   "id": "60015880",
   "metadata": {},
   "outputs": [],
   "source": [
    "NUM_TOPICS = 8\n",
    "\n",
    "lda_model = LdaModel(corpus=corpus,\n",
    "                     id2word=dictionary,\n",
    "                     num_topics=NUM_TOPICS,\n",
    "                     random_state=100,\n",
    "                     passes=15)"
   ]
  },
  {
   "cell_type": "code",
   "execution_count": null,
   "id": "ea098ea8",
   "metadata": {},
   "outputs": [],
   "source": [
    "topics = lda_model.print_topics(num_words=10)\n",
    "for topic in topics:\n",
    "    print(topic)"
   ]
  },
  {
   "cell_type": "code",
   "execution_count": null,
   "id": "75d2b6ce",
   "metadata": {},
   "outputs": [],
   "source": [
    "# 5. Organizar os resultados em um DataFrame\n",
    "def get_dominant_topic(doc_bow, lda_model):\n",
    "    topic_dist = lda_model.get_document_topics(doc_bow)\n",
    "    dominant_topic = sorted(topic_dist, key=lambda x: x[1], reverse=True)[0][0]\n",
    "    return dominant_topic"
   ]
  },
  {
   "cell_type": "code",
   "execution_count": null,
   "id": "8564f67e",
   "metadata": {},
   "outputs": [],
   "source": [
    "results = []\n",
    "# Itera sobre a lista que contém os metadados\n",
    "for i, doc_info in enumerate(all_docs_with_metadata):\n",
    "    doc_bow = corpus[i] # Pega o BoW correspondente pelo índice\n",
    "    dominant_topic = get_dominant_topic(doc_bow, lda_model)\n",
    "    results.append({\n",
    "        'filename': doc_info['filename'], # Adiciona o nome do arquivo\n",
    "        'original_text': ' '.join(doc_info['text']),\n",
    "        'dominant_topic': dominant_topic\n",
    "    })\n",
    "\n",
    "df_results = pd.DataFrame(results)\n",
    "df_results.to_excel('./data/processed/lda_results.xlsx', index=False)\n",
    "print(df_results.head())"
   ]
  }
 ],
 "metadata": {
  "kernelspec": {
   "display_name": ".venv",
   "language": "python",
   "name": "python3"
  },
  "language_info": {
   "codemirror_mode": {
    "name": "ipython",
    "version": 3
   },
   "file_extension": ".py",
   "mimetype": "text/x-python",
   "name": "python",
   "nbconvert_exporter": "python",
   "pygments_lexer": "ipython3",
   "version": "3.12.10"
  }
 },
 "nbformat": 4,
 "nbformat_minor": 5
}
